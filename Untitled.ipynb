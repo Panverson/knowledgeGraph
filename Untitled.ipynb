{
 "cells": [
  {
   "cell_type": "code",
   "execution_count": 2,
   "id": "a3560de1-6078-48a6-816b-d4b35483d6e4",
   "metadata": {},
   "outputs": [],
   "source": [
    "import jieba\n",
    "import os"
   ]
  },
  {
   "cell_type": "code",
   "execution_count": 5,
   "id": "9a57b7c8-900b-4f9a-8983-da9b34343a76",
   "metadata": {},
   "outputs": [
    {
     "name": "stdout",
     "output_type": "stream",
     "text": [
      "0.42.1\n"
     ]
    }
   ],
   "source": [
    "print(jieba.__version__)"
   ]
  },
  {
   "cell_type": "code",
   "execution_count": 3,
   "id": "ae38f004-09e5-4936-8286-5efe1bf888f5",
   "metadata": {},
   "outputs": [],
   "source": [
    "test_file = './text/1.txt'"
   ]
  },
  {
   "cell_type": "code",
   "execution_count": 4,
   "id": "8b34f2f6-e533-4fc8-83c4-7b2e53ed7db5",
   "metadata": {},
   "outputs": [
    {
     "name": "stdout",
     "output_type": "stream",
     "text": [
      "['中国成人2型糖尿病胰岛素促泌剂应用的专家共识\\n', '随着社会经济的发展，糖尿病患病率逐渐增加，已成为严重的世界性问题。糖尿病特别是其慢性并发症影响患者的生活质量，甚至威胁患者的生命，给社会、家庭以及患者带来沉重的经济负担。中国的流行病学调查显示，中国20岁以上人群2型糖尿病患病率达9.7%；且近2/3的患者HbA1c得不到有效控制(HbA1c≤7%)；60.7%的患者因未被诊断而无法及早进行有效的治疗和指导。\\n', '中国成人2型糖尿病发生的病理生理特点与欧美国家存在差异，β细胞胰岛素分泌功能下降比胰岛素敏感性降低更明显，且糖尿病肾病发生率更高(2c级，2b级)。因此根据中国2型糖尿病患者自身特点，进行合理的降糖治疗，努力控制其他多种血管病变危险因素，降低血管并发症风险和提高患者生活质量是目前亟需解决的问题。尽管随着糖尿病防治进展，新降糖药物不断问世，而多数权威指南仍将胰岛素促泌剂作为成人2型糖尿病治疗的一线药物。英国糖尿病前瞻性研究(UKPDS)及其后续研究与糖尿病和心血管疾病行动(ADVANCE)等多个大型临床研究证实，磺脲类促泌剂或以其为基础的降糖治疗可显著提高2型糖尿病患者的血糖达标率，降低糖尿病血管并发症风险(1b级)。由于胰岛素促泌剂的发展，其种类逐渐增多，为了针对中国成人2型糖尿病患者的自身特点，更有效指导临床正确使用胰岛素促泌剂，中华医学会内分泌分会组织专家对胰岛素促泌剂在中国成人2型糖尿病的临床应用进行了多次认真的讨论并达成了共识。共识中的证据等级根据牛津循证医学中心的标准分类如(表1)。\\n', '糖尿病发病机制与中国2型糖尿病患者特点\\n', '胰岛素抵抗和β细胞胰岛素分泌缺陷是2型糖尿病发病的两大因素，胰岛素抵抗常常是2型糖尿病发生的始动因素，但如果β细胞胰岛素分泌功能保持其代偿能力，2型糖尿病并不会发生，因此，β细胞胰岛素分泌功能缺陷是2型糖尿病发病病的中心环节之一(5级)。事实上在糖尿病诊断前约10~15年，β细胞胰岛素分泌功能已开始逐渐下降(2b级)。\\n']\n"
     ]
    }
   ],
   "source": [
    "texts = []\n",
    "with open(test_file, 'r', encoding='utf-8') as f:\n",
    "    texts = f.readlines()\n",
    "\n",
    "print(texts[:5])"
   ]
  },
  {
   "cell_type": "code",
   "execution_count": 12,
   "id": "96d6f1db-da0b-459e-bdc3-9a0698862117",
   "metadata": {},
   "outputs": [
    {
     "name": "stdout",
     "output_type": "stream",
     "text": [
      "中 国\n",
      "国\n",
      "随 着\n",
      "着\n",
      "中 国\n",
      "国\n"
     ]
    },
    {
     "ename": "ValueError",
     "evalue": "too many values to unpack (expected 2)",
     "output_type": "error",
     "traceback": [
      "\u001b[1;31m---------------------------------------------------------------------------\u001b[0m",
      "\u001b[1;31mValueError\u001b[0m                                Traceback (most recent call last)",
      "\u001b[1;32m~\\AppData\\Local\\Temp/ipykernel_46192/4186099164.py\u001b[0m in \u001b[0;36m<module>\u001b[1;34m\u001b[0m\n\u001b[0;32m      1\u001b[0m \u001b[1;32mfor\u001b[0m \u001b[0mtext\u001b[0m \u001b[1;32min\u001b[0m \u001b[0mtexts\u001b[0m\u001b[1;33m:\u001b[0m\u001b[1;33m\u001b[0m\u001b[1;33m\u001b[0m\u001b[0m\n\u001b[1;32m----> 2\u001b[1;33m     \u001b[1;32mfor\u001b[0m \u001b[0mword\u001b[0m\u001b[1;33m,\u001b[0m \u001b[0mflag\u001b[0m \u001b[1;32min\u001b[0m \u001b[0mjieba\u001b[0m\u001b[1;33m.\u001b[0m\u001b[0mcut\u001b[0m\u001b[1;33m(\u001b[0m\u001b[0mtext\u001b[0m\u001b[1;33m.\u001b[0m\u001b[0mstrip\u001b[0m\u001b[1;33m(\u001b[0m\u001b[1;33m)\u001b[0m\u001b[1;33m)\u001b[0m\u001b[1;33m:\u001b[0m\u001b[1;33m\u001b[0m\u001b[1;33m\u001b[0m\u001b[0m\n\u001b[0m\u001b[0;32m      3\u001b[0m         \u001b[0mprint\u001b[0m\u001b[1;33m(\u001b[0m\u001b[0mword\u001b[0m\u001b[1;33m,\u001b[0m \u001b[0mflag\u001b[0m\u001b[1;33m)\u001b[0m\u001b[1;33m\u001b[0m\u001b[1;33m\u001b[0m\u001b[0m\n\u001b[0;32m      4\u001b[0m         \u001b[0mprint\u001b[0m\u001b[1;33m(\u001b[0m\u001b[0mflag\u001b[0m\u001b[1;33m)\u001b[0m\u001b[1;33m\u001b[0m\u001b[1;33m\u001b[0m\u001b[0m\n\u001b[0;32m      5\u001b[0m         \u001b[1;32mbreak\u001b[0m\u001b[1;33m\u001b[0m\u001b[1;33m\u001b[0m\u001b[0m\n",
      "\u001b[1;31mValueError\u001b[0m: too many values to unpack (expected 2)"
     ]
    }
   ],
   "source": [
    "for text in texts:\n",
    "    for word, flag in jieba.cut(text.strip()):\n",
    "        print(word, flag)\n",
    "        break\n",
    "    # break"
   ]
  },
  {
   "cell_type": "code",
   "execution_count": null,
   "id": "5ee29e68-bfbe-4973-818d-d4cdee96a4a1",
   "metadata": {},
   "outputs": [],
   "source": []
  }
 ],
 "metadata": {
  "kernelspec": {
   "display_name": "Python 3 (ipykernel)",
   "language": "python",
   "name": "python3"
  },
  "language_info": {
   "codemirror_mode": {
    "name": "ipython",
    "version": 3
   },
   "file_extension": ".py",
   "mimetype": "text/x-python",
   "name": "python",
   "nbconvert_exporter": "python",
   "pygments_lexer": "ipython3",
   "version": "3.9.7"
  }
 },
 "nbformat": 4,
 "nbformat_minor": 5
}
