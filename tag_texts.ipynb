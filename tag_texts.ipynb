{
 "cells": [
  {
   "cell_type": "code",
   "execution_count": 1,
   "id": "8b1bd558-19a5-4ad6-94e3-e150bd0ac670",
   "metadata": {},
   "outputs": [],
   "source": [
    "import json\n",
    "import os\n",
    "import multiprocessing as mp\n",
    "from tqdm import tqdm"
   ]
  },
  {
   "cell_type": "code",
   "execution_count": 2,
   "id": "93f3849b-935f-4af0-829b-3a78af0353be",
   "metadata": {},
   "outputs": [],
   "source": [
    "with open('./sample.json', 'r', encoding='utf-8') as f:\n",
    "    dataset = json.load(f)"
   ]
  },
  {
   "cell_type": "code",
   "execution_count": 4,
   "id": "7cf07b53-ee67-4825-ba59-6ff7e756ed8d",
   "metadata": {},
   "outputs": [
    {
     "name": "stdout",
     "output_type": "stream",
     "text": [
      "dict_keys(['doc_id', 'paragraphs'])\n"
     ]
    }
   ],
   "source": [
    "print(dataset.keys())"
   ]
  },
  {
   "cell_type": "code",
   "execution_count": 6,
   "id": "2af1ed7d-8823-4f63-a4f3-cd5ad810bdcf",
   "metadata": {},
   "outputs": [
    {
     "name": "stdout",
     "output_type": "stream",
     "text": [
      "60\n",
      "{'paragraph_id': '0', 'paragraph': '中国成人2型糖尿病胰岛素促泌剂应用的专家共识', 'sentences': [{'sentence_id': '0', 'sentence': '中国成人2型糖尿病胰岛素促泌剂应用的专家共识', 'start_idx': 0, 'end_idx': 22, 'entities': [{'entity_id': 'T0', 'entity': '2型糖尿病', 'entity_type': 'Disease', 'start_idx': 4, 'end_idx': 9}, {'entity_id': 'T1', 'entity': '2型', 'entity_type': 'Class', 'start_idx': 4, 'end_idx': 6}, {'entity_id': 'T2', 'entity': '胰岛素促泌剂', 'entity_type': 'Drug', 'start_idx': 9, 'end_idx': 15}], 'relations': [{'relation_type': 'Drug_Disease', 'relation_id': 'R0', 'head_entity_id': 'T2', 'tail_entity_id': 'T0'}, {'relation_type': 'Class_Disease', 'relation_id': 'R1', 'head_entity_id': 'T1', 'tail_entity_id': 'T0'}]}]}\n"
     ]
    }
   ],
   "source": [
    "print(len(dataset['paragraphs']))\n",
    "print(dataset['paragraphs'][0])"
   ]
  },
  {
   "cell_type": "code",
   "execution_count": 7,
   "id": "22664ad8-f3b6-44b1-862a-a06b2c35f3b2",
   "metadata": {},
   "outputs": [],
   "source": [
    "texts = []\n",
    "for paragraph in dataset['paragraphs']:\n",
    "    texts.append(paragraph['paragraph'])"
   ]
  },
  {
   "cell_type": "code",
   "execution_count": 60,
   "id": "71f80e60-153b-424d-ae3f-1a5a67126ca7",
   "metadata": {},
   "outputs": [],
   "source": [
    "tag_list = []\n",
    "entity_types = set()\n",
    "for paragraph in dataset['paragraphs']:\n",
    "    text.append()\n",
    "    for sentence in paragraph['sentences']:\n",
    "        sentence_length = len(sentence['sentence'])        \n",
    "        # initliazing tag list\n",
    "        tag = ['O' for _ in range(sentence_length)]\n",
    "      \n",
    "        for entity in sentence['entities']:\n",
    "            entity_type = entity['entity_type']\n",
    "            entity_types.add(entity_type)\n",
    "            start_idx = entity['start_idx']\n",
    "            end_idx = entity['end_idx']\n",
    "            tag[start_idx] = 'B-' + entity_type\n",
    "            for idx in range(start_idx + 1, end_idx):\n",
    "                tag[idx] = 'I-' + entity_type            \n",
    "        # print(tag)\n",
    "        tag_list.append(tag)"
   ]
  },
  {
   "cell_type": "code",
   "execution_count": 61,
   "id": "8113a73b-93b0-40cf-9d6b-6a90bb0f49a4",
   "metadata": {},
   "outputs": [
    {
     "name": "stdout",
     "output_type": "stream",
     "text": [
      "[['O', 'O', 'O', 'O', 'B-Class', 'I-Class', 'I-Disease', 'I-Disease', 'I-Disease', 'B-Drug', 'I-Drug', 'I-Drug', 'I-Drug', 'I-Drug', 'I-Drug', 'O', 'O', 'O', 'O', 'O', 'O', 'O'], ['O', 'O', 'O', 'O', 'O', 'O', 'O', 'O', 'O', 'O', 'B-Disease', 'I-Disease', 'I-Disease', 'O', 'O', 'O', 'O', 'O', 'O', 'O', 'O', 'O', 'O', 'O', 'O', 'O', 'O', 'O', 'O', 'O', 'O', 'O', 'O', 'B-Disease', 'I-Disease', 'I-Disease', 'O', 'O', 'O', 'O', 'O', 'O', 'O', 'O', 'O', 'O', 'O', 'O', 'O', 'O', 'O', 'O', 'O', 'O', 'O', 'O', 'O', 'O', 'O', 'O', 'O', 'O', 'O', 'O', 'O', 'O', 'O', 'O', 'O', 'O', 'O', 'O', 'O', 'O', 'O', 'O', 'O', 'O', 'O', 'O', 'O', 'O', 'O', 'O', 'O', 'O', 'O', 'O', 'O', 'O', 'O', 'O', 'O', 'O', 'O', 'O', 'O', 'O', 'O', 'O', 'O', 'O', 'O', 'O', 'O', 'O', 'B-Class', 'I-Class', 'I-Disease', 'I-Disease', 'I-Disease', 'O', 'O', 'O', 'O', 'O', 'O', 'O', 'O', 'O', 'O', 'O', 'O', 'O', 'O', 'O', 'O', 'O', 'B-Test_items', 'I-Test_items', 'I-Test_items', 'I-Test_items', 'I-Test_items', 'O', 'O', 'O', 'O', 'O', 'O', 'O', 'O', 'B-Test_items', 'I-Test_items', 'I-Test_items', 'I-Test_items', 'I-Test_items', 'B-Test_Value', 'I-Test_Value', 'I-Test_Value', 'O', 'O', 'O', 'O', 'O', 'O', 'O', 'O', 'O', 'O', 'O', 'O', 'O', 'O', 'O', 'O', 'O', 'O', 'O', 'O', 'O', 'O', 'O', 'O', 'O', 'O', 'O', 'O', 'O', 'O', 'O'], ['O', 'O', 'O', 'O', 'B-Class', 'I-Class', 'I-Disease', 'I-Disease', 'I-Disease', 'O', 'O', 'O', 'O', 'O', 'O', 'O', 'O', 'O', 'O', 'O', 'O', 'O', 'O', 'O', 'O', 'O', 'O', 'O', 'B-Pathogenesis', 'I-Pathogenesis', 'I-Pathogenesis', 'I-Pathogenesis', 'I-Pathogenesis', 'I-Pathogenesis', 'I-Pathogenesis', 'I-Pathogenesis', 'I-Pathogenesis', 'I-Pathogenesis', 'I-Pathogenesis', 'I-Pathogenesis', 'I-Pathogenesis', 'I-Pathogenesis', 'I-Pathogenesis', 'I-Pathogenesis', 'I-Pathogenesis', 'I-Pathogenesis', 'I-Pathogenesis', 'I-Pathogenesis', 'I-Pathogenesis', 'I-Pathogenesis', 'I-Pathogenesis', 'I-Pathogenesis', 'O', 'O', 'B-Disease', 'I-Disease', 'I-Disease', 'B-Anatomy', 'I-Disease', 'O', 'O', 'O', 'O', 'O', 'O', 'O', 'O', 'O', 'O', 'O', 'O', 'O', 'O', 'O', 'O', 'O', 'O', 'O', 'O', 'O', 'B-Class', 'I-Class', 'I-Disease', 'I-Disease', 'I-Disease', 'O', 'O', 'O', 'O', 'O', 'O', 'O', 'O', 'O', 'O', 'O', 'O', 'O', 'O', 'O', 'O', 'O', 'O', 'O', 'O', 'O', 'O', 'O', 'O', 'O', 'B-Anatomy', 'I-Anatomy', 'I-Disease', 'I-Disease', 'O', 'O', 'O', 'O', 'O', 'O', 'O', 'B-Anatomy', 'I-Anatomy', 'O', 'O', 'O', 'O', 'O', 'O', 'O', 'O', 'O', 'O', 'O', 'O', 'O', 'O', 'O', 'O', 'O', 'O', 'O', 'O', 'O', 'O', 'O', 'O', 'O', 'O', 'O', 'O', 'O', 'B-Disease', 'I-Disease', 'I-Disease', 'O', 'O', 'O', 'O', 'O', 'O', 'O', 'O', 'O', 'O', 'O', 'O', 'O', 'O', 'O', 'O', 'O', 'O', 'O', 'O', 'O', 'O', 'O', 'O', 'B-Drug', 'I-Drug', 'I-Drug', 'I-Drug', 'I-Drug', 'I-Drug', 'O', 'O', 'O', 'O', 'B-Class', 'I-Class', 'I-Disease', 'I-Disease', 'I-Disease', 'O', 'O', 'O', 'O', 'O', 'O', 'O', 'O', 'O', 'O', 'B-Disease', 'I-Disease', 'I-Disease', 'O', 'O', 'O', 'O', 'O', 'O', 'O', 'O', 'O', 'O', 'O', 'O', 'O', 'O', 'O', 'O', 'O', 'O', 'O', 'B-Disease', 'I-Disease', 'I-Disease', 'O', 'B-Anatomy', 'I-Anatomy', 'I-Anatomy', 'I-Disease', 'I-Disease', 'O', 'O', 'O', 'O', 'O', 'O', 'O', 'O', 'O', 'O', 'O', 'O', 'O', 'O', 'O', 'O', 'O', 'O', 'O', 'O', 'O', 'O', 'O', 'B-Drug', 'I-Drug', 'I-Drug', 'I-Drug', 'I-Drug', 'I-Drug', 'O', 'O', 'O', 'O', 'O', 'O', 'O', 'O', 'O', 'O', 'O', 'O', 'O', 'O', 'O', 'O', 'B-Class', 'I-Class', 'I-Disease', 'I-Disease', 'I-Disease', 'O', 'O', 'O', 'B-Test_items', 'I-Test_items', 'O', 'O', 'O', 'O', 'O', 'O', 'B-Disease', 'I-Disease', 'I-Disease', 'B-Anatomy', 'I-Anatomy', 'O', 'O', 'O', 'O', 'O', 'O', 'O', 'O', 'O', 'O', 'O', 'O', 'O', 'B-Drug', 'I-Drug', 'I-Drug', 'I-Drug', 'I-Drug', 'I-Drug', 'O', 'O', 'O', 'O', 'O', 'O', 'O', 'O', 'O', 'O', 'O', 'O', 'O', 'O', 'O', 'O', 'O', 'O', 'O', 'O', 'B-Class', 'I-Class', 'I-Disease', 'I-Disease', 'I-Disease', 'O', 'O', 'O', 'O', 'O', 'O', 'O', 'O', 'O', 'O', 'O', 'O', 'O', 'O', 'O', 'O', 'O', 'O', 'O', 'B-Drug', 'I-Drug', 'I-Drug', 'I-Drug', 'I-Drug', 'I-Drug', 'O', 'O', 'O', 'O', 'O', 'O', 'O', 'O', 'O', 'O', 'O', 'O', 'O', 'O', 'O', 'O', 'B-Drug', 'I-Drug', 'I-Drug', 'I-Drug', 'I-Drug', 'I-Drug', 'O', 'O', 'O', 'O', 'O', 'B-Class', 'I-Class', 'I-Disease', 'I-Disease', 'I-Disease', 'O', 'O', 'O', 'O', 'O', 'O', 'O', 'O', 'O', 'O', 'O', 'O', 'O', 'O', 'O', 'O', 'O', 'O', 'O', 'O', 'O', 'O'], ['O', 'O', 'O', 'O', 'O', 'O', 'O', 'O', 'O', 'O', 'O', 'O', 'O', 'O', 'O', 'O', 'O', 'O', 'O', 'O', 'O', 'O', 'O', 'O', 'O', 'O', 'O', 'O', 'O'], ['B-Disease', 'I-Disease', 'I-Disease', 'O', 'O', 'O', 'O', 'O', 'O', 'O', 'B-Class', 'I-Class', 'I-Disease', 'I-Disease', 'I-Disease', 'O', 'O', 'O', 'O']]\n",
      "{'Test_items', 'Frequency', 'Drug', 'Pathogenesis', 'Duration', 'Reason', 'ADE', 'Disease', 'Level', 'Class', 'Anatomy', 'Method', 'Test_Value'}\n"
     ]
    }
   ],
   "source": [
    "print(tag_list[:5])\n",
    "print(entity_types)"
   ]
  },
  {
   "cell_type": "code",
   "execution_count": 27,
   "id": "66f50280-80b9-4be6-8290-a5fd289e1132",
   "metadata": {},
   "outputs": [],
   "source": [
    "def load_json(file_name):\n",
    "    with open(file_name, 'r', encoding='utf-8') as f:\n",
    "        data = json.load(f)\n",
    "    return data\n",
    "\n",
    "def get_entity_attribution(entity):\n",
    "    return entity['entity_type'], entity['start_idx'], entity['end_idx']\n",
    "\n",
    "def tag_sentence(sentence):\n",
    "    sentence_length = len(sentence['sentence'])\n",
    "    tag = ['O' for _ in range(sentence_length)]\n",
    "    for entity in sentence['entities']:\n",
    "        cls, start, end = get_entity_attribution(entity)\n",
    "        if cls == 'Class':\n",
    "            continue\n",
    "        tag[start] = 'B-' + cls\n",
    "        for idx in range(start + 1, end):\n",
    "            tag[idx] = 'I-' + cls\n",
    "    return tag\n",
    "\n",
    "def tag_file(file_name):\n",
    "    tag_list = []\n",
    "    data = load_json(file_name)\n",
    "    for paragraph in data['paragraphs']:\n",
    "        for sentence in paragraph['sentences']:\n",
    "            tag_list += tag_sentence(sentence)\n",
    "    return tag_list\n",
    "\n",
    "def get_text(file_name):\n",
    "    file_id = file_name.split('/')[-1][:-5]\n",
    "    texts = []\n",
    "    for paragraph in dataset['paragraphs']:\n",
    "        texts.append(paragraph['paragraph'])\n",
    "    with open(f'./text/{file_id}.txt', 'w', encoding='utf-8') as f:\n",
    "        f.writelines(texts)"
   ]
  },
  {
   "cell_type": "code",
   "execution_count": 25,
   "id": "f03059e4-252a-4143-9d77-330b21d5de16",
   "metadata": {},
   "outputs": [],
   "source": [
    "dataset_file = './diakg/0521_new_format/11.json'"
   ]
  },
  {
   "cell_type": "code",
   "execution_count": 26,
   "id": "998f77c6-dd48-498d-bf16-4e2c3054eb20",
   "metadata": {
    "tags": []
   },
   "outputs": [
    {
     "name": "stdout",
     "output_type": "stream",
     "text": [
      "11\n"
     ]
    }
   ],
   "source": [
    "tag_file(dataset_file)[:10]\n",
    "get_text(dataset_file)"
   ]
  },
  {
   "cell_type": "code",
   "execution_count": 28,
   "id": "9e542195-eabb-4360-9ec8-b113362492e1",
   "metadata": {},
   "outputs": [
    {
     "name": "stdout",
     "output_type": "stream",
     "text": [
      "['中国成人2型糖尿病胰岛素促泌剂应用的专家共识随着社会经济的发展，糖尿病患病率逐渐增加，已成为严重的世界性问题。糖尿病特别是其慢性并发症影响患者的生活质量，甚至威胁患者的生命，给社会、家庭以及患者带来沉重的经济负担。中国的流行病学调查显示，中国20岁以上人群2型糖尿病患病率达9.7%；且近2/3的患者HbA1c得不到有效控制(HbA1c≤7%)；60.7%的患者因未被诊断而无法及早进行有效的治疗和指导。中国成人2型糖尿病发生的病理生理特点与欧美国家存在差异，β细胞胰岛素分泌功能下降比胰岛素敏感性降低更明显，且糖尿病肾病发生率更高(2c级，2b级)。因此根据中国2型糖尿病患者自身特点，进行合理的降糖治疗，努力控制其他多种血管病变危险因素，降低血管并发症风险和提高患者生活质量是目前亟需解决的问题。尽管随着糖尿病防治进展，新降糖药物不断问世，而多数权威指南仍将胰岛素促泌剂作为成人2型糖尿病治疗的一线药物。英国糖尿病前瞻性研究(UKPDS)及其后续研究与糖尿病和心血管疾病行动(ADVANCE)等多个大型临床研究证实，磺脲类促泌剂或以其为基础的降糖治疗可显著提高2型糖尿病患者的血糖达标率，降低糖尿病血管并发症风险(1b级)。由于胰岛素促泌剂的发展，其种类逐渐增多，为了针对中国成人2型糖尿病患者的自身特点，更有效指导临床正确使用胰岛素促泌剂，中华医学会内分泌分会组织专家对胰岛素促泌剂在中国成人2型糖尿病的临床应用进行了多次认真的讨论并达成了共识。共识中的证据等级根据牛津循证医学中心的标准分类如(表1)。糖尿病发病机制与中国2型糖尿病患者特点胰岛素抵抗和β细胞胰岛素分泌缺陷是2型糖尿病发病的两大因素，胰岛素抵抗常常是2型糖尿病发生的始动因素，但如果β细胞胰岛素分泌功能保持其代偿能力，2型糖尿病并不会发生，因此，β细胞胰岛素分泌功能缺陷是2型糖尿病发病病的中心环节之一(5级)。事实上在糖尿病诊断前约10~15年，β细胞胰岛素分泌功能已开始逐渐下降(2b级)。在中国新诊断2型糖尿病患者中，胰岛素抵抗为主、胰岛素分泌缺陷为主以及胰岛素分泌缺陷伴胰岛素抵抗的患者各占约1/3(2c级)。对中国新诊断2型糖尿病患者的调查发现，随着空腹血糖水平增高，患者胰岛素分泌功能的下降较胰岛素敏感性降低更明显，且非肥胖(体重指数<24kg/m2)的2型糖尿病患者胰岛素分泌功能更差(2c级)。因此中国2型糖尿病患者更应关注β细胞胰岛素分泌功能的异常。胰岛素促泌剂的分类目前国内常用的胰岛素促泌剂分为磺脲类和格列奈类。磺脲类促泌剂包括半衰期较短的短效促泌剂(如：格列吡嗪和格列喹酮)和半衰期较长的中长效促泌剂(如普通剂型的格列美脲、格列本脲和格列齐特，以及改良剂型的格列吡嗪控释片和格列齐特缓释片)。格列奈类促泌剂半衰期较短，包括瑞格列奈和那格列奈。常用的各种胰岛素促泌剂的药理特点如下(表2)。胰岛素促泌剂的降糖机制一、促胰岛素分泌作用现有胰岛素促泌剂均通过与胰岛β细胞膜ATP依赖钾(KATP)通道的磺脲类受体(SUR)-1结合，促使KATP通道关闭，从而刺激内源性胰岛素分泌。促胰岛素分泌的差异取决于不同药物的药代动力学特性、与SUR一1结合的亲和力以及解离速度。KATP通道也存在于其他许多组织，包括大脑、心机和血管平滑肌细胞。不同组织的SUR存在差异，且胰岛素促泌剂会与β细胞不同分子量的SUR受体结合，这些是其产生药效学差异的原因(5级)。二、部分胰岛素增敏作用近年采用葡萄糖钳夹技术研究发现，磺脲类促泌剂可使人体外周葡萄糖利用增加10%~52%(平均29%)，但大多数学者认为，此作用可能主要是继发于葡萄糖毒性作用的改善三、其他降糖机制磺脲类促泌剂还可以通过其他机制降低血糖。Simonson等和Best等证明了磺脲类促泌剂降低空腹血糖的作用还与其抑制基础肝糖的生成密切相关(5级)。胰岛素促泌剂的临床效果一、降糖效果胰岛素促泌剂降糖作用强，且降糖作用在常规剂量内呈剂量依赖性，除那格列奈外单药治疗一般可平均降低HbA1c2%左右，甚至降低2%以上(5级)；且患者基线HbA1c越高，服用胰岛素促泌剂治疗后HbA1c的降低幅度越大(2b级)。1.磺脲类促泌剂：磺脲类促泌剂是一类应用时间长、降糖疗效肯定、安全性高的降糖药物。(1)短效促泌剂：短效磺脲类及格列奈类促泌剂半衰期短，作用迅速，主要降低2型糖尿病患者餐后血糖，主要包括：格列喹酮和格列吡嗪、瑞格列奈和那格列奈等。(2)中长效促泌剂：中长效磺脲类促泌剂半衰期长，作用较持久，明显降低2型糖尿病患者空腹和餐后血糖。包括自身半衰期较长的普通剂型磺脲类促泌剂，如格列本脲和格列美脲，以及剂型改良后的缓控释制剂，如格列齐特缓释片、格列吡嗪控释片。格列本脲与β细胞膜SUR亲和力强，降糖疗效强，但低血糖的发生率高(1a级)。格列美脲与β细胞膜SUR结合及解离的速度较格列本脲为快，低血糖发生率有所降低(2b级)；且在血糖控制相同的情况下格列美脲较格列本脲治疗时的空腹及餐后胰岛素和C肽水平为低(2b级)。格列吡嗪控释片通过胃肠道治疗系统(GITS)技术实现控释，格列齐特缓释片采用以亲水性羟丙甲纤维素为基质的缓释技术，可保持全天血药浓度平稳。其活性成分的释放更符合2型糖尿病患者24h血糖变化特点，低血糖尤其是严重低血糖的发生更少(4级)。2.格列奈类促泌剂：格列奈类促泌剂直接刺激胰岛β细胞分泌胰岛素，其最大特点是改善早相分泌，起效快、作用时间短，以降低餐后血糖为主，且低血糖风险小、受肾功能影响小(3b级)。一般需1日多次服用。二、减少或延缓微血管及大血管并发症发生和发展的效果2.大血管并发症：对新诊断的2型糖尿病患者，UKPDS以格列本脲和氯磺丙脲为基础的降糖治疗，其后续研究5年随访未显示明显的大血管获益，10年随访心肌梗死风险下降15%(P=0.01，1b级)。对病程较长且合并心血管高危因素的患者，ADVANCE发现以格列齐特缓释片为基础的降糖治疗5年，HbA1c降至6.5%时，心血管死亡相对风险下降12%(P=0.12，1b级)。对伴有持续性微量白蛋白尿的非超重2型糖尿病患者，Steno-2研究结果显示，采用以格列齐特为基础的降糖治疗，结合多因素强化干预，心血管疾病相对风险下降53%(P=0.008，1b级)。对UKPDS和ADVANCE等研究的meta分析结果显示，以氯磺丙脲、格列本脲和格列齐特缓释片为基础的降糖治疗可使2型糖尿病患者非致死性心肌梗死风险显著降低17%、冠心病风险显著降低15%(1a级)。三、降低全因死亡的效果由于糖尿病使心脏病或卒中风险加倍，多数医生和患者非常关注心脑血管疾病，而糖尿病导致死亡的其他因素却较少受到关注。近期的一项研究显示，40%的糖尿病患者死于非心血管疾病，包括肾病、感染、癌症、老年痴呆症、慢性阻塞性肺疾病、神经系统疾病等，提示关注糖尿病患者全因死亡非常重要(2b级)。ADVANCE显示以格列齐特缓释片为基础的强化降糖治疗组，随访5年，，全因死亡有降低的趋势(1b级)。UKPDS试验后继续10年的随访结果显示：格列本脲和氯磺丙脲治疗组的患者，全因死亡风险下降13%(P=0.007，1b级)。安全性一、低血糖风险磺脲类促泌剂可导致低血糖的发生，但剂型改良后的缓释、控释制剂、格列奈类及格列美脲低血糖发生率相对较低。GUIDE研究结果显示，在血糖水平控制相似的情况下，不同磺脲类促泌剂所致低血糖发生风险不同(1b级)。ADVANCE以格列齐特缓释片为基础的降糖治疗严重低血糖年发生率仅为UKPDS采用格列本脲和氯磺丙脲为基础的降糖治疗的1/4(1b级)。因此，应根据不同胰岛素促泌剂的特点及糖尿病患者的血糖谱选择合适的胰岛素促泌剂，从而在保证降糖疗效的同时降低低血糖发生风险。二、对体重的影响肥胖是多种慢性疾病特别是心脑血管疾病发生、进展的危险因素，因此应该高度重视。一般认为磺脲类药物治疗可引起体重增加。UKPDS表明，以格列本脲为基础的降糖治疗，患者体重增加1.7kg(1b级)。而ADVANCE以格列齐特缓释片为基础的联合降糖治疗，随访5年，平均体重并未增加(1b级)。剂型改良后的磺脲类促泌剂、格列奈类及格列美脲对体重影响较小。三、对β细胞功能的影响UKPDS的结果显示，接受格列本脲和氯磺丙脲治疗的患者β细胞胰岛素分泌功能有下降趋势，但与采用二甲双胍治疗和单纯饮食控制相似(2b级)。糖尿病进展实验(ADOPT)对比了3种不同类型降糖药物(罗格列酮、格列本脲和二甲双胍)在新诊断2型糖尿病患者中的疗效，对该研究分析发现，格列本脲组在治疗早期对β细胞胰岛素分泌功能显著优于罗格列酮和二甲双胍(2b级)。因此，磺脲类胰岛素促泌剂并不加速β细胞胰岛素分泌功能的衰竭。四、肿瘤风险研究表明2型糖尿病患者的肿瘤风险增加，目前没有胰岛素促泌剂增加肿瘤风险的确切证据。近期发表的ADVANCE亚组分析显示，以格列齐特缓释片为基础的降糖治疗，并不增加患者肿瘤风险(2b级)。五、心血管风险美国大学组糖尿病研究项目(UGDP)研究提出，甲苯磺丁脲可能增加2型糖尿病患者心血管死亡风险。但UKPDS、ADOPT及ADVANCE并未发现格列本脲和格列齐特缓释片增加心血管风险(1b级，2b级)。六、其他不良反应胰岛素促泌剂其他少见不良反应包括头晕、乏力、头痛、皮疹、恶心和胃肠道不良反应(呕吐、腹痛、腹泻等)。一般对症处理和调理药物剂量后上述症状可以缓解或消失。新型的如格列美脲、格列奈类及剂型改良后的磺脲类促泌剂，这些情况更少见。胰岛素促泌剂用药原则一、胰岛素促泌剂总的用药原则1.胰岛素促泌剂的适应证：胰岛素促泌剂可作为2型糖尿病患者的一线用药。一般而言，有一定β细胞功能、无胰岛素促泌剂使用禁忌的2型糖尿病患者可考虑选用胰岛素促泌剂，为不适合使用二甲双胍的2型糖尿病患者的治疗首选，或其他口服降糖药物治疗血糖控制不佳的2型糖尿病患者联合用药方案首选(5级)。2.胰岛素促泌剂的禁忌证：药物过敏、1型糖尿病、糖尿病酮症酸中毒、高糖性高渗透压综合征、严重肝或肾损伤和哺乳期患者等。3.胰岛素促泌剂的联合用药原则：2型糖尿病患者，若胰岛素促泌剂单药治疗血糖控制不佳，应与其他降糖药物如双胍类、α-糖苷酶抑制剂或噻唑烷二酮类药物联用。联合治疗时应注意以下事项：(1)应选择作用机制互补的降糖药物(5级)；(2)一般联合2种药物，最多可联用3种药物，若血糖仍得不到有效控制，应及时启动胰岛素治疗(5级)；(3)联合用药应考虑价效因素，尽量减轻患者经济负担；(4)磺脲类促泌剂与格列奈类促泌剂虽然在分子结构和作用靶位上存在不同，但两者合用的临床证据尚不充分，一般不推荐两者联用。二、不同血糖谱的选药原则在选择胰岛素促泌剂治疗时，可根据患者血糖选择不同类型胰岛素促泌剂(5级)：(1)以餐后血糖(PPG)升高为主者，宜选择格列吡嗪、格列奈类促泌剂；(2)以空腹血糖(FPG)升高为主者，宜选择依从性好、低血糖发生风险低的中长效磺脲类促泌剂；(3)餐后血糖和空腹血糖均升高者，宜选择依从性好、低血糖发生风险低的中长效磺脲类促泌剂。三、老年糖尿病患者(≥65岁)老年患者应根据脏器功能、认知功能以级预期寿命选择不同胰岛素促泌剂治疗，但总体而言，治疗措施应尽量简单易行，并充分考虑肝肾功能减退程度(5级)。若患者既往有严重低血糖史、合并其他严重疾病、预期生存期较短，宜选择作用时间较短的格列奈类促泌剂；若患者脏器功能和认知能力良好、预期生存期较长，可选择低血糖少等安全性较好的磺脲类促泌剂。四、低血糖高危险人群糖尿病病程长(>15年)、有“无感知”低血糖病史、存在肝肾功能不全或全天血糖波动较大并反复出现低血糖症状的患者给予胰岛素促泌剂治疗时，应选择格列奈类促泌剂或低血糖风险较低的磺脲类促泌剂(1b级，5级)；一般应小剂量开始使用。五、其他情况目前关于妊娠期糖尿病或妊娠期显性糖尿病或孕前2型糖尿病患者妊娠期间及哺乳期使用胰岛素促泌剂的临床证据尚不太充分，一般情况下国内不推荐孕妇及哺乳期患者应用胰岛素促泌剂治疗。对伴有中度肾功能不全患者，应首选胰岛素，也可选择经肾排泄少的胰岛素促泌剂，如瑞格列奈或格列喹酮，并根据肾功能水平适当降低胰岛素促泌剂的使用剂量。对短期接受胰岛素强化治疗后的患者，可选择胰岛素促泌剂治疗。对依从性差的患者，尤其是在中国农村地区的患者，宜选择低血糖风险低、对体重影响小及廉价的1日1次磺脲类促泌剂(4级)。总结迄今为止，胰岛素促泌剂在2型糖尿病治疗中仍占据不可或缺的地位，为多数权威2型糖尿病防治指南中的一线降糖药物。中国成人2型糖尿病患者体重指数较低、糖尿病肾病发生率较高且β细胞胰岛素分泌功能比胰岛素敏感性降低更明显，胰岛素促泌剂更符合中国成人2型糖尿病患者特点。磺脲类药物，经长时间应用及大型临床研究证实，降糖疗效肯定且降HbA1c作用强、安全性高，可减少微血管并发症的发生，早期使用还可减少大血管并发症和全因死亡的发生。格列奈类有效降低餐后血糖，在中国也广泛使用。由于患者的耐受性、依从性及经济条件差别较大，因此，在临床实践中应根据患者特点，选用合适的胰岛素促泌剂。1.微血管并发症：UKPDS证实，以氯磺丙脲、格列本脲为基础的降糖治疗，可减少新诊断2型糖尿病患者的微血管复合终点风险25%(P=0.0099)，其中视网膜病变风险下降29%(P=0.0031，1b级)；9年随防时微量白蛋白尿和大量白蛋白尿发生的相对风险分别下降24%(P=0.00062)和33%(P=0.026，1b级)。ADVANCE对病程较长，合并心血管高危因素的2型糖尿病患者采用以格列齐特缓释片为基础的降糖治疗，主要微血管事件减少14%(P=0.01)，肾脏事件减少21%(P=0.006，1b级)。优化的降糖治疗不仅只针对胰岛素分泌缺陷，还应同时关注其他发病机制(如胰岛素抵抗、能量摄取等)。胰岛素促泌剂与其他作用机制互补的药物联用，可多方面干预糖尿病发病环节，使患者血糖得到长期、有效、平稳及安全的控制。']\n"
     ]
    }
   ],
   "source": [
    "with open('./text/11.txt', 'r', encoding='utf-8') as f:\n",
    "    print(f.readlines())"
   ]
  },
  {
   "cell_type": "code",
   "execution_count": 58,
   "id": "0943e33d-9c4a-481a-8000-b8dddf994f86",
   "metadata": {},
   "outputs": [
    {
     "name": "stdout",
     "output_type": "stream",
     "text": [
      "5758\n"
     ]
    }
   ],
   "source": [
    "total_length = 0\n",
    "for paragraph in dataset['paragraphs']:\n",
    "    for sentence in paragraph['sentences']:\n",
    "        total_length += len(sentence['sentence'])\n",
    "        \n",
    "print(total_length)"
   ]
  },
  {
   "cell_type": "code",
   "execution_count": 5,
   "id": "cf7fbc52-49af-4b34-9c1d-145aaa2f9bfb",
   "metadata": {},
   "outputs": [
    {
     "name": "stderr",
     "output_type": "stream",
     "text": [
      "\n",
      "  0%|                                                                                           | 0/41 [00:00<?, ?it/s]\u001b[A\n",
      "100%|█████████████████████████████████████████████████████████████████████████████████| 41/41 [00:00<00:00, 338.84it/s]\u001b[A\n"
     ]
    }
   ],
   "source": [
    "results = []\n",
    "\n",
    "file_list = os.listdir('./diakg/0521_new_format/')\n",
    "\n",
    "for file in tqdm(file_list):\n",
    "    file_name = os.path.join('./diakg/0521_new_format/', file)\n",
    "    result = tag_file(file_name)\n",
    "    results.append(result)\n",
    "    \n"
   ]
  },
  {
   "cell_type": "code",
   "execution_count": 12,
   "id": "3759451a-9d3d-4a0f-b7b3-7be17979f68b",
   "metadata": {},
   "outputs": [],
   "source": [
    "import pickle\n",
    "with open('tag_label.pkl', 'wb') as f:\n",
    "    pickle.dump(results, f)"
   ]
  },
  {
   "cell_type": "code",
   "execution_count": null,
   "id": "1f5fcaca-30ed-46ad-8b44-1f511b3d796b",
   "metadata": {},
   "outputs": [],
   "source": [
    "results = []\n",
    "\n",
    "file_list = os.listdir('./diakg/0521_new_format/')\n",
    "num_worker = mp.cpu_count()\n",
    "pool = mp.Pool(num_worker)\n",
    "\n",
    "for file in file_list:\n",
    "    file_name = os.path.join('./diakg/0521_new_format/', file)\n",
    "    result = pool.apply_async(tag_file, args=(file_name))\n",
    "    results.append(result)\n",
    "    \n",
    "pool.close()\n",
    "pool.join()\n",
    "\n",
    "[r.get() for r in tqdm(results)]"
   ]
  },
  {
   "cell_type": "code",
   "execution_count": null,
   "id": "164ad16a-bbcb-438e-83e0-6d5aef5f10d4",
   "metadata": {},
   "outputs": [],
   "source": []
  }
 ],
 "metadata": {
  "kernelspec": {
   "display_name": "Python 3 (ipykernel)",
   "language": "python",
   "name": "python3"
  },
  "language_info": {
   "codemirror_mode": {
    "name": "ipython",
    "version": 3
   },
   "file_extension": ".py",
   "mimetype": "text/x-python",
   "name": "python",
   "nbconvert_exporter": "python",
   "pygments_lexer": "ipython3",
   "version": "3.9.7"
  }
 },
 "nbformat": 4,
 "nbformat_minor": 5
}
